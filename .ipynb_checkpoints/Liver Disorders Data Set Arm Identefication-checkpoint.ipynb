{
 "cells": [
  {
   "cell_type": "markdown",
   "metadata": {},
   "source": [
    "# Importing the important libraries"
   ]
  },
  {
   "cell_type": "code",
   "execution_count": 87,
   "metadata": {},
   "outputs": [],
   "source": [
    "import pandas as pd\n",
    "import numpy\n",
    "import sys\n",
    "%matplotlib inline\n",
    "import matplotlib.pyplot as plt\n",
    "from pandas.plotting import scatter_matrix\n",
    "import numpy as np\n",
    "import time\n",
    "import sklearn\n",
    "from IPython.display import set_matplotlib_formats\n",
    "set_matplotlib_formats('png', 'pdf')\n",
    "# fix random seed for reproducibility\n",
    "plt.rcParams['figure.figsize'] = (18, 12)\n",
    "from sklearn.datasets.samples_generator import make_blobs\n",
    "from pandas.plotting import parallel_coordinates"
   ]
  },
  {
   "cell_type": "markdown",
   "metadata": {},
   "source": [
    "# Data Set"
   ]
  },
  {
   "cell_type": "markdown",
   "metadata": {},
   "source": [
    "## Load the dataset\n",
    "\n",
    "\n",
    "To download the sataset from the web follow this is the link https://archive.ics.uci.edu/ml/machine-learning-databases/liver-disorders/bupa.data"
   ]
  },
  {
   "cell_type": "code",
   "execution_count": 88,
   "metadata": {},
   "outputs": [
    {
     "name": "stdout",
     "output_type": "stream",
     "text": [
      "The dataset has been loaded\n"
     ]
    }
   ],
   "source": [
    "# Link to data on the disk\n",
    "raw_data = np.genfromtxt(\"https://archive.ics.uci.edu/ml/machine-learning-databases/liver-disorders/bupa.data\", delimiter=',')\n",
    "print('The dataset has been loaded')"
   ]
  },
  {
   "cell_type": "code",
   "execution_count": 89,
   "metadata": {},
   "outputs": [
    {
     "name": "stdout",
     "output_type": "stream",
     "text": [
      " Number of features , number of examples =  (345, 7)\n"
     ]
    }
   ],
   "source": [
    "# print(the number of examples and the dimenstion in this dataset\n",
    "# Notice that the last feature in this dataset is the target\n",
    "data = raw_data\n",
    "size = np.shape(data)\n",
    "data = data[~numpy.isnan(data).any(axis=1)]\n",
    "print(' Number of features , number of examples = ', size)\n",
    "np.random.shuffle(data)\n",
    "X = data[:, 0:-1]\n",
    "y = data[:, -1]"
   ]
  },
  {
   "cell_type": "code",
   "execution_count": 90,
   "metadata": {},
   "outputs": [],
   "source": [
    "Input_toNN = X.shape[1]\n",
    "OutPutNN = (np.unique(y)).shape[0]"
   ]
  },
  {
   "cell_type": "markdown",
   "metadata": {},
   "source": [
    "## Peprocess the data"
   ]
  },
  {
   "cell_type": "code",
   "execution_count": 91,
   "metadata": {},
   "outputs": [],
   "source": [
    "df = pd.DataFrame(X,y)"
   ]
  },
  {
   "cell_type": "markdown",
   "metadata": {},
   "source": [
    "## Prepare the data for classification"
   ]
  },
  {
   "cell_type": "code",
   "execution_count": 92,
   "metadata": {},
   "outputs": [],
   "source": [
    "dataset = df.values"
   ]
  },
  {
   "cell_type": "code",
   "execution_count": 93,
   "metadata": {},
   "outputs": [],
   "source": [
    "from sklearn import preprocessing\n",
    "# for training data\n",
    "X = dataset.astype(float)\n",
    "y[y == 1] = 0\n",
    "y[y == 2] = 1\n",
    "features = preprocessing.scale(X)\n",
    "target = y"
   ]
  },
  {
   "cell_type": "markdown",
   "metadata": {},
   "source": [
    "## Feature Selection"
   ]
  },
  {
   "cell_type": "code",
   "execution_count": 94,
   "metadata": {},
   "outputs": [],
   "source": [
    "from sklearn.model_selection import train_test_split\n",
    "# Extracting 40% validation data\n",
    "X_train, X_test, y_train, y_test = train_test_split(\n",
    "    features, target, test_size=0.40, random_state=17)"
   ]
  },
  {
   "cell_type": "markdown",
   "metadata": {},
   "source": [
    "## Preproccing"
   ]
  },
  {
   "cell_type": "code",
   "execution_count": 95,
   "metadata": {},
   "outputs": [
    {
     "name": "stdout",
     "output_type": "stream",
     "text": [
      "Number of training examples 207\n",
      "Number of validation examples 138\n"
     ]
    }
   ],
   "source": [
    "print('Number of training examples',len(X_train))\n",
    "print('Number of validation examples',len(X_test))"
   ]
  },
  {
   "cell_type": "code",
   "execution_count": 96,
   "metadata": {},
   "outputs": [],
   "source": [
    "from sklearn import preprocessing\n",
    "# normalize the data attributes\n",
    "X_train = preprocessing.normalize(X_train)\n",
    "#X_test = preprocessing.normalize(X_test)\n",
    "# standardize the data attributes\n",
    "X_train = preprocessing.scale(X_train)\n",
    "#X_test = preprocessing.scale(X_test)"
   ]
  },
  {
   "cell_type": "markdown",
   "metadata": {},
   "source": [
    "# Neural Networks"
   ]
  },
  {
   "cell_type": "code",
   "execution_count": 97,
   "metadata": {},
   "outputs": [
    {
     "name": "stdout",
     "output_type": "stream",
     "text": [
      "The time for training NN is  26.685291051864624 seconds \n",
      "Test fraction correct (NN-loss) = 0.45\n",
      "Test fraction correct (NN-Accuracy) = 0.78\n"
     ]
    }
   ],
   "source": [
    "import seaborn as sns\n",
    "from sklearn.model_selection import train_test_split\n",
    "from keras.models import Sequential\n",
    "from keras.layers import Dense, Dropout\n",
    "from keras.regularizers import l2\n",
    "from keras.utils import np_utils\n",
    "# The layers where we want to prune\n",
    "N1 = 20 # 20\n",
    "N2 = 20\n",
    "labelsTrain = np_utils.to_categorical(y_train)\n",
    "model = Sequential()\n",
    "model.add(Dense(N1,\n",
    "                input_shape=(Input_toNN,), \n",
    "                activation=\"relu\"))\n",
    "model.add(Dropout(0.5))\n",
    "model.add(Dense(N2, activation='relu'))\n",
    "model.add(Dropout(0.5))\n",
    "model.add(Dense(OutPutNN, activation=\"softmax\"))\n",
    "model.compile(loss='categorical_crossentropy',\n",
    "              metrics=['accuracy'],\n",
    "              optimizer='adam')\n",
    "start_time = time.time()\n",
    "model.fit(X_train, labelsTrain, verbose=0, batch_size=1, epochs=100)\n",
    "print(\"The time for training NN is  %s seconds \" % (time.time() - start_time))\n",
    "loss, accuracy = model.evaluate(X_train, labelsTrain, batch_size=1, verbose=0)\n",
    "print(\"Test fraction correct (NN-loss) = {:.2f}\".format(loss))\n",
    "print(\"Test fraction correct (NN-Accuracy) = {:.2f}\".format(accuracy))"
   ]
  },
  {
   "cell_type": "code",
   "execution_count": 98,
   "metadata": {},
   "outputs": [],
   "source": [
    "modelBuckup = model"
   ]
  },
  {
   "cell_type": "markdown",
   "metadata": {},
   "source": [
    "## The Architecture of the Model"
   ]
  },
  {
   "cell_type": "code",
   "execution_count": 99,
   "metadata": {},
   "outputs": [
    {
     "name": "stdout",
     "output_type": "stream",
     "text": [
      "_________________________________________________________________\n",
      "Layer (type)                 Output Shape              Param #   \n",
      "=================================================================\n",
      "dense_7 (Dense)              (None, 20)                140       \n",
      "_________________________________________________________________\n",
      "dropout_5 (Dropout)          (None, 20)                0         \n",
      "_________________________________________________________________\n",
      "dense_8 (Dense)              (None, 20)                420       \n",
      "_________________________________________________________________\n",
      "dropout_6 (Dropout)          (None, 20)                0         \n",
      "_________________________________________________________________\n",
      "dense_9 (Dense)              (None, 2)                 42        \n",
      "=================================================================\n",
      "Total params: 602\n",
      "Trainable params: 602\n",
      "Non-trainable params: 0\n",
      "_________________________________________________________________\n"
     ]
    }
   ],
   "source": [
    "modelBuckup.summary()"
   ]
  },
  {
   "cell_type": "markdown",
   "metadata": {},
   "source": [
    "# Direct Method for Pruning Weights"
   ]
  },
  {
   "cell_type": "code",
   "execution_count": 100,
   "metadata": {},
   "outputs": [],
   "source": [
    "# specify the layer should have N1 and N2 weights\n",
    "L = 2"
   ]
  },
  {
   "cell_type": "markdown",
   "metadata": {},
   "source": [
    "## Pruning the weights"
   ]
  },
  {
   "cell_type": "code",
   "execution_count": 101,
   "metadata": {},
   "outputs": [
    {
     "name": "stdout",
     "output_type": "stream",
     "text": [
      "Execution time  208.59116196632385\n"
     ]
    }
   ],
   "source": [
    "startD = time.time()\n",
    "N_arry = np.zeros((N1*N2))\n",
    "N_arryD = np.zeros((N1*N2))\n",
    "noExamples = len(X_train)\n",
    "NL = np.zeros(noExamples)\n",
    "Threshold = 0\n",
    "constant=1\n",
    "for k in range(noExamples):\n",
    "    count = 0\n",
    "    for i in range(N1):\n",
    "        for j in range(N2):\n",
    "            loss, accuracy = modelBuckup.evaluate(X_train[k:k+1], labelsTrain[k:k+1], \n",
    "                                                 batch_size=1, verbose=0)\n",
    "        # Prune the neuron in the layer\n",
    "            All_weights=modelBuckup.get_weights()\n",
    "            temp = All_weights[L][i][j]\n",
    "            All_weights[L][i][j] = 0\n",
    "            modelBuckup.set_weights(All_weights)\n",
    "            loss_New, accuracy_New = modelBuckup.evaluate(X_train[k:k+1], labelsTrain[k:k+1], \n",
    "                                                         batch_size=1, verbose=0)\n",
    "            delta = loss_New - loss\n",
    "            #reward = max(0,Threshold + delta)/constant\n",
    "            #print('delta = ', delta)\n",
    "            All_weights[L][i][j]= temp  # before\n",
    "            N_arry[count] = max(delta,0) \n",
    "            count = count +1\n",
    "            modelBuckup.set_weights(All_weights)\n",
    "                #print(delta)\n",
    "    NL[k]=np.argmax(N_arry) # chosen weight at every iteration\n",
    "    N_arryD = N_arryD + N_arry \n",
    "endD = time.time()\n",
    "print(\"Execution time \",endD - startD)"
   ]
  },
  {
   "cell_type": "markdown",
   "metadata": {},
   "source": [
    "## The single weight that has been chosen by direct method\n",
    "\n",
    "Practically we choose k weights that have high rewards but the purpose of this file to show the computation time and which is the method be able to choose best arm comparing to direct method."
   ]
  },
  {
   "cell_type": "code",
   "execution_count": 102,
   "metadata": {},
   "outputs": [
    {
     "name": "stdout",
     "output_type": "stream",
     "text": [
      "The index of chosen  W_ji is =  3 9\n"
     ]
    }
   ],
   "source": [
    "reshapeD = N_arryD.reshape(N1,N2)\n",
    "D = np.argmax(N_arryD)\n",
    "Di,Dj = np.unravel_index(D, reshapeD.shape)\n",
    "print(\"The index of chosen  W_ji is = \", Dj, Di)"
   ]
  },
  {
   "cell_type": "markdown",
   "metadata": {},
   "source": [
    "Set the number of rounding same for all methods"
   ]
  },
  {
   "cell_type": "code",
   "execution_count": 103,
   "metadata": {},
   "outputs": [],
   "source": [
    "Round = 1800  # will be the same for all methods"
   ]
  },
  {
   "cell_type": "markdown",
   "metadata": {},
   "source": [
    "# Random policy\n",
    "\n",
    "\n",
    "Random policy  or Epsilon-first strategy : during T rounds, sample a random arm (uniform sampling), and then choose the best arms."
   ]
  },
  {
   "cell_type": "markdown",
   "metadata": {},
   "source": [
    "## Pruning the Weights"
   ]
  },
  {
   "cell_type": "code",
   "execution_count": 104,
   "metadata": {},
   "outputs": [
    {
     "name": "stdout",
     "output_type": "stream",
     "text": [
      "Execution time =  4.644942045211792\n",
      "\n",
      " The index of chosen  W_ji is =  12 2\n"
     ]
    }
   ],
   "source": [
    "startP = time.time()\n",
    "N_arry = np.zeros(N1*N2)\n",
    "#noExamples = 100\n",
    "NL = np.zeros(Round)\n",
    "RP = np.zeros(Round)\n",
    "Avg_Accumaltive_RP = np.zeros(N1*N2)\n",
    "p_reshape = Avg_Accumaltive_RP.reshape(N1,N2)\n",
    "Count_RP = np.ones(N1*N2)\n",
    "import random\n",
    "count = 0\n",
    "\n",
    "# uniform sampling \n",
    "for j in range(Round):\n",
    "            b = random.randint(0,noExamples-1)  \n",
    "            loss, accuracy = modelBuckup.evaluate(X_train[b:b+1], labelsTrain[b:b+1], batch_size=1, verbose=0)\n",
    "            ind = random.randint(0,N1*N2-1)\n",
    "            i,k = np.unravel_index(ind, p_reshape.shape)\n",
    "            #print(i,k)\n",
    "            All_weights=modelBuckup.get_weights()\n",
    "            temp = All_weights[2][i][k]\n",
    "            All_weights[2][i][k] = 0\n",
    "            modelBuckup.set_weights(All_weights)\n",
    "            Count_RP[ind]=Count_RP[ind]+1\n",
    "            loss_New, accuracy_New = modelBuckup.evaluate(X_train[b:b+1], labelsTrain[b:b+1], batch_size=1, verbose=0)\n",
    "            delta = loss_New - loss\n",
    "            #print(delta)\n",
    "            reward = max(0,Threshold + delta)/constant\n",
    "            #print(reward)\n",
    "            val = Count_RP[ind]\n",
    "            Avg_Accumaltive_RP[ind] = (val-1)/val * Avg_Accumaltive_RP[ind] + 1/val * reward\n",
    "            All_weights[2][i][k] = temp\n",
    "            modelBuckup.set_weights(All_weights)\n",
    "            RP[j]=ind\n",
    "\n",
    "# Exploting \n",
    "# The  weight that has been chosen by Random policy method\n",
    "\n",
    "reshapeRP = Avg_Accumaltive_RP.reshape(N1,N2)\n",
    "P = np.argmax(Avg_Accumaltive_RP)\n",
    "endP = time.time()\n",
    "print(\"Execution time = \",endP - startP)\n",
    "Pi,Pj = np.unravel_index(P, reshapeRP.shape)\n",
    "print(\"\\n The index of chosen  W_ji is = \", Pj, Pi)"
   ]
  },
  {
   "cell_type": "markdown",
   "metadata": {},
   "source": [
    "# Epsilon Greedy"
   ]
  },
  {
   "cell_type": "markdown",
   "metadata": {},
   "source": [
    "## Pruning the Weights"
   ]
  },
  {
   "cell_type": "code",
   "execution_count": 105,
   "metadata": {},
   "outputs": [
    {
     "name": "stdout",
     "output_type": "stream",
     "text": [
      "Execution time  7.548367977142334\n"
     ]
    }
   ],
   "source": [
    "startG = time.time()\n",
    "N_arry = np.zeros(N1*N2)\n",
    "#noExamples = 100\n",
    "NL = np.zeros(Round)\n",
    "ep = np.zeros(Round)\n",
    "Avg_Accumaltive_R_EGN = np.zeros(N1*N2)\n",
    "p_reshape = Avg_Accumaltive_R_EGN.reshape(N1,N2)\n",
    "Count_EGN = np.ones(N1*N2)\n",
    "import random\n",
    "epsilon=0.5\n",
    "count = 0\n",
    "for i in range(N1): \n",
    "    for j in range(N2):\n",
    "            loss, accuracy = modelBuckup.evaluate(X_train[1:10], labelsTrain[1:10], batch_size=1, verbose=0)\n",
    "        # Prune the neuron in the layer\n",
    "            All_weights=modelBuckup.get_weights()\n",
    "            temp = All_weights[2][i][j]\n",
    "            All_weights[2][i][j] = 0 \n",
    "            modelBuckup.set_weights(All_weights)\n",
    "            loss_New, accuracy_New = modelBuckup.evaluate(X_train[1:10], labelsTrain[1:10], batch_size=1, verbose=0)\n",
    "            delta = loss_New - loss\n",
    "            reward = max(0,Threshold + delta)/constant\n",
    "            All_weights[2][i][j]= temp\n",
    "            Avg_Accumaltive_R_EGN[count] = reward\n",
    "            modelBuckup.set_weights(All_weights)\n",
    "            count = count+1\n",
    "for j in range(N1+N2-1, Round):\n",
    "            b = random.randint(0,noExamples-1)  \n",
    "            loss, accuracy = modelBuckup.evaluate(X_train[b:b+1], labelsTrain[b:b+1], batch_size=1, verbose=0)\n",
    "        # Prune the neuron in the layer\n",
    "            if (epsilon>random.uniform(0, 1)):\n",
    "                ind = np.argmax(Avg_Accumaltive_R_EGN)\n",
    "            else:\n",
    "                ind = random.randint(0,N1*N2-1)\n",
    "            i,k = np.unravel_index(ind, p_reshape.shape)\n",
    "            #print(i,k)\n",
    "            All_weights=modelBuckup.get_weights()\n",
    "            temp = All_weights[2][i][k]\n",
    "            All_weights[2][i][k] = 0\n",
    "            modelBuckup.set_weights(All_weights)\n",
    "            Count_EGN[ind]=Count_EGN[ind]+1\n",
    "            loss_New, accuracy_New = modelBuckup.evaluate(X_train[b:b+1], labelsTrain[b:b+1], batch_size=1, verbose=0)\n",
    "            delta = loss_New - loss\n",
    "            #print(delta)\n",
    "            reward = max(0,Threshold + delta)/constant\n",
    "            #print(reward)\n",
    "            val = Count_EGN[ind]\n",
    "            Avg_Accumaltive_R_EGN[ind] = (val-1)/val * Avg_Accumaltive_R_EGN[ind] + 1/val * reward\n",
    "            All_weights[2][i][k] = temp\n",
    "            modelBuckup.set_weights(All_weights)\n",
    "            ep[j]=ind\n",
    "endG = time.time()\n",
    "print(\"Execution time \",endG - startG)"
   ]
  },
  {
   "cell_type": "markdown",
   "metadata": {},
   "source": [
    "## The single weight that has been chosen by Epsilon Greedy method\n",
    "\n",
    "Practically we choose k weights that have high rewards but the purpose of this file to show the computation time and which is the method be able to choose best arm comparing to direct method."
   ]
  },
  {
   "cell_type": "code",
   "execution_count": 106,
   "metadata": {},
   "outputs": [
    {
     "name": "stdout",
     "output_type": "stream",
     "text": [
      "The index of chosen  W_ji is =  6 3\n"
     ]
    }
   ],
   "source": [
    "reshapeG = Avg_Accumaltive_R_EGN.reshape(N1,N2)\n",
    "G = np.argmax(Avg_Accumaltive_R_EGN)\n",
    "Gi,Gj = np.unravel_index(G, reshapeG.shape)\n",
    "print(\"The index of chosen  W_ji is = \", Gj, Gi)"
   ]
  },
  {
   "cell_type": "markdown",
   "metadata": {},
   "source": [
    "# UCB1"
   ]
  },
  {
   "cell_type": "markdown",
   "metadata": {},
   "source": [
    "## Pruning Weights"
   ]
  },
  {
   "cell_type": "code",
   "execution_count": 107,
   "metadata": {},
   "outputs": [
    {
     "name": "stdout",
     "output_type": "stream",
     "text": [
      "Execution time  8.473400115966797\n"
     ]
    }
   ],
   "source": [
    "startU = time.time()\n",
    "N_arry = np.zeros(N1*N2)\n",
    "NL = np.zeros(Round)\n",
    "Avg_Accumaltive_UCB = np.zeros(N1*N2)\n",
    "Count_UCB = np.ones(N1*N2)\n",
    "UCB1 = np.zeros(Round)\n",
    "p_reshape = Avg_Accumaltive_UCB.reshape(N1,N2)\n",
    "count = 0\n",
    "import random\n",
    "tau=4\n",
    "for i in range(N1): \n",
    "    for j in range(N2):\n",
    "            loss, accuracy = modelBuckup.evaluate(X_train[1:10], labelsTrain[1:10], batch_size=1, verbose=0)\n",
    "            All_weights=modelBuckup.get_weights()\n",
    "            temp = All_weights[2][i][j]\n",
    "            All_weights[2][i][j] = 0 \n",
    "            modelBuckup.set_weights(All_weights)\n",
    "            loss_New, accuracy_New = modelBuckup.evaluate(X_train[1:10], labelsTrain[1:10], batch_size=1, verbose=0)\n",
    "            delta = loss_New - loss\n",
    "            reward = max(0,Threshold + delta)/constant\n",
    "            All_weights[2][i][j]= temp\n",
    "            Avg_Accumaltive_UCB[count] = reward\n",
    "            modelBuckup.set_weights(All_weights)\n",
    "            count = count+1\n",
    "for j in range(N1+N2-1, Round):\n",
    "            b = random.randint(0,noExamples-1)  \n",
    "            loss, accuracy = modelBuckup.evaluate(X_train[b:b+1], labelsTrain[b:b+1], batch_size=1, verbose=0)\n",
    "            padding = np.sqrt(2*Count_UCB.sum()/Count_UCB)\n",
    "            ucb = Avg_Accumaltive_UCB + padding\n",
    "            ind = np.argmax(ucb)\n",
    "            Count_UCB[ind] = Count_UCB[ind] + 1\n",
    "            i,k = np.unravel_index(ind, p_reshape.shape)\n",
    "            All_weights=modelBuckup.get_weights()\n",
    "            temp = All_weights[2][i][k]\n",
    "            All_weights[2][i][k] = 0           \n",
    "            modelBuckup.set_weights(All_weights)\n",
    "            loss_New, accuracy_New = modelBuckup.evaluate(X_train[b:b+1], labelsTrain[b:b+1], batch_size=1, verbose=0)\n",
    "            delta = loss_New - loss\n",
    "            reward = max(0,Threshold + delta)/constant\n",
    "            All_weights[2][i][k] = temp\n",
    "            modelBuckup.set_weights(All_weights)\n",
    "            val = Count_UCB[ind]\n",
    "            Avg_Accumaltive_UCB[ind] = (val-1)/val * Avg_Accumaltive_UCB[ind] + 1/val * reward\n",
    "            modelBuckup.set_weights(All_weights)\n",
    "            UCB1[j]=ind\n",
    "endU = time.time()\n",
    "print(\"Execution time \",endU - startU)"
   ]
  },
  {
   "cell_type": "markdown",
   "metadata": {},
   "source": [
    "## The single weight that has been chosen by UCB1 method\n",
    "\n",
    "Practically we choose k weights that have high rewards but the purpose of this file to show the computation time and which is the method be able to choose best arm comparing to direct method."
   ]
  },
  {
   "cell_type": "code",
   "execution_count": 108,
   "metadata": {},
   "outputs": [
    {
     "name": "stdout",
     "output_type": "stream",
     "text": [
      "The index of chosen  W_ji is =  5 13\n"
     ]
    }
   ],
   "source": [
    "reshapeU = Avg_Accumaltive_UCB.reshape(N1,N2)\n",
    "U = np.argmax(Avg_Accumaltive_UCB)\n",
    "Ui,Uj = np.unravel_index(U, reshapeU.shape)\n",
    "print(\"The index of chosen  W_ji is = \", Uj, Ui)"
   ]
  },
  {
   "cell_type": "markdown",
   "metadata": {},
   "source": [
    "# Thompson Sampling"
   ]
  },
  {
   "cell_type": "markdown",
   "metadata": {},
   "source": [
    "## Pruning weights"
   ]
  },
  {
   "cell_type": "code",
   "execution_count": 109,
   "metadata": {},
   "outputs": [
    {
     "name": "stdout",
     "output_type": "stream",
     "text": [
      "Execution time  7.545936822891235\n"
     ]
    }
   ],
   "source": [
    "startT = time.time()\n",
    "N_arry = np.zeros(N1*N2)\n",
    "NL = np.zeros(Round)\n",
    "Avg_Accumaltive_TS = np.zeros(N1*N2)\n",
    "Count_TS = np.ones(N1*N2)\n",
    "TS = np.zeros(Round)\n",
    "p_reshape = Avg_Accumaltive_TS.reshape(N1,N2)\n",
    "count = 0\n",
    "success = np.zeros(N1*N2)\n",
    "failure = np.zeros(N1*N2)\n",
    "for i in range(N1): \n",
    "    for j in range(N2):\n",
    "            loss, accuracy = modelBuckup.evaluate(X_train[1:10], labelsTrain[1:10], batch_size=1, verbose=0)\n",
    "        # Prune the neuron in the layer\n",
    "            All_weights=modelBuckup.get_weights()\n",
    "            temp = All_weights[2][i][j]\n",
    "            All_weights[2][i][j] = 0 \n",
    "            modelBuckup.set_weights(All_weights)\n",
    "            loss_New, accuracy_New = modelBuckup.evaluate(X_train[1:10], labelsTrain[1:10], batch_size=1, verbose=0)\n",
    "            delta = loss_New - loss\n",
    "            if(delta>0):\n",
    "                reward = 1\n",
    "                success[i] = success[i]+1\n",
    "            else:\n",
    "                reward = 0\n",
    "                failure[i] = failure[i]+1                        \n",
    "            All_weights[2][i][j]= temp\n",
    "            Avg_Accumaltive_TS[count] = reward\n",
    "            modelBuckup.set_weights(All_weights)\n",
    "            count = count+1\n",
    "for j in range(N1+N2-1, Round):\n",
    "            b = random.randint(0,noExamples-1)  \n",
    "            loss, accuracy = modelBuckup.evaluate(X_train[b:b+1], labelsTrain[b:b+1], batch_size=1, verbose=0)\n",
    "        # Prune the neuron in the layer \n",
    "            ind = np.argmax(np.random.beta(1+success, 1+failure))\n",
    "            Count_TS[ind] = Count_TS[ind] + 1\n",
    "            i,k = np.unravel_index(ind, p_reshape.shape)\n",
    "            All_weights=modelBuckup.get_weights()\n",
    "            temp = All_weights[2][i][k]\n",
    "            All_weights[2][i][k] = 0                     \n",
    "            modelBuckup.set_weights(All_weights)\n",
    "            loss_New, accuracy_New = modelBuckup.evaluate(X_train[b:b+1], labelsTrain[b:b+1], batch_size=1, verbose=0)\n",
    "            delta = loss_New - loss\n",
    "            if(delta>0):\n",
    "                reward = 1\n",
    "                success[i] = success[i]+1\n",
    "            else:\n",
    "                reward = 0\n",
    "                failure[i] = failure[i]+1            \n",
    "            All_weights[2][i][k] = temp\n",
    "            modelBuckup.set_weights(All_weights)          \n",
    "            val = Count_TS[ind]\n",
    "            Avg_Accumaltive_TS[ind] = (val-1)/val * Avg_Accumaltive_TS[ind] + 1/val * reward\n",
    "            TS[j]=ind\n",
    "endT = time.time()\n",
    "print(\"Execution time \",endT - startT)"
   ]
  },
  {
   "cell_type": "markdown",
   "metadata": {},
   "source": [
    "## The single weight that has been chosen by Thompson Sampling method\n",
    "\n",
    "Practically we choose k weights that have high rewards but the purpose of this file to show the computation time and which is the method be able to choose best arm comparing to direct method."
   ]
  },
  {
   "cell_type": "code",
   "execution_count": 110,
   "metadata": {},
   "outputs": [
    {
     "name": "stdout",
     "output_type": "stream",
     "text": [
      "The index of chosen  W_ji is =  1 0\n"
     ]
    }
   ],
   "source": [
    "reshapeT = Avg_Accumaltive_TS.reshape(N1,N2)\n",
    "T = np.argmax(Avg_Accumaltive_TS)\n",
    "Ti,Tj = np.unravel_index(T, reshapeT.shape)\n",
    "print(\"The index of chosen  W_ji is = \", Tj, Ti)"
   ]
  },
  {
   "cell_type": "markdown",
   "metadata": {},
   "source": [
    "# Successive Rejects"
   ]
  },
  {
   "cell_type": "markdown",
   "metadata": {},
   "source": [
    "For a K-armed bandit, Successive Rejects operates in (K − 1) phases. At the end of each phase, the arm with the lowest average reward is discarded. Thus, at the end of phase (K − 1) only one arm survives, and this arm is recommended.\n"
   ]
  },
  {
   "cell_type": "markdown",
   "metadata": {},
   "source": [
    "## Pruning weights"
   ]
  },
  {
   "cell_type": "code",
   "execution_count": 111,
   "metadata": {},
   "outputs": [
    {
     "name": "stdout",
     "output_type": "stream",
     "text": [
      "Execution time  95.23023200035095\n"
     ]
    }
   ],
   "source": [
    "startS = time.time()\n",
    "N_arry = np.zeros(N1*N2)\n",
    "NL = np.zeros(noExamples)\n",
    "sr = []\n",
    "Avg_Accumaltive_SR = np.zeros(N1*N2)\n",
    "Avg_Accumaltive_SR2 = np.zeros(N1*N2)\n",
    "Avg_Accumaltive_SR1 = np.zeros(N1*N2)\n",
    "p_reshape = Avg_Accumaltive_SR2.reshape(N1,N2)\n",
    "check_array = np.ones((N1,N2))\n",
    "Count_SR = np.ones(N1*N2)\n",
    "A = [0]\n",
    "Nk = []\n",
    "K = N1*N2\n",
    "Log = 0.5\n",
    "for k in range(K):\n",
    "    d = k+2\n",
    "    Log = Log + 1/d\n",
    "for k in range(K-2):\n",
    "    d = k+1\n",
    "    nK = int(np.floor(1/Log * (Round-K)/(K+1-d)))\n",
    "    if nK!=0:\n",
    "        A.append(nK)\n",
    "A.sort(reverse=False)\n",
    "#print(\"The round of the phases : \",A)\n",
    "g=0\n",
    "for a in A:\n",
    "    h = a - g\n",
    "    g = a\n",
    "    Nk.append(h)\n",
    "    count=0\n",
    "    #print(a)\n",
    "    for n in range(h):\n",
    "        c=0\n",
    "        for i in range(N1):\n",
    "            for j in range(N2):\n",
    "                if check_array[i][j]==1:\n",
    "                    b = random.randint(0,noExamples-1) \n",
    "                    loss, accuracy = modelBuckup.evaluate(X_train[b:b+1], labelsTrain[b:b+1], batch_size=1, verbose=0)\n",
    "                    All_weights=modelBuckup.get_weights()\n",
    "                    temp = All_weights[2][i][j]\n",
    "                    All_weights[2][i][j] = 0\n",
    "                    modelBuckup.set_weights(All_weights)\n",
    "                    loss_New, accuracy_New = modelBuckup.evaluate(X_train[b:b+1], labelsTrain[b:b+1], batch_size=1, verbose=0)\n",
    "                    delta = loss_New - loss\n",
    "                    reward = max(0,Threshold + delta)/constant\n",
    "                    All_weights[2][i][j] = temp\n",
    "                    modelBuckup.set_weights(All_weights)\n",
    "                    val = Count_SR[c]\n",
    "                    #print(reward)\n",
    "                    Avg_Accumaltive_SR[c] = (val-1)/val * Avg_Accumaltive_SR[c] + 1/val * reward\n",
    "                    All_weights[2][i][j] = temp\n",
    "                    modelBuckup.set_weights(All_weights)\n",
    "                    count = count+1\n",
    "                    c = c + 1    \n",
    "        Avg_Accumaltive_SR2=Avg_Accumaltive_SR2+Avg_Accumaltive_SR\n",
    "        Avg_Accumaltive_SR1=Avg_Accumaltive_SR2.copy()\n",
    "    ind = np.argmin(Avg_Accumaltive_SR2)\n",
    "    Avg_Accumaltive_SR2[ind] = 100\n",
    "    #print(Avg_Accumaltive_SR)\n",
    "    s,t = np.unravel_index(ind, p_reshape.shape)\n",
    "    ###check_array[s][t]=0\n",
    "    sr.append(ind)\n",
    "endS = time.time()\n",
    "print(\"Execution time \",endS - startS)\n",
    "#print(\"A = \", A)\n",
    "#print(\"Nk = \", Nk)"
   ]
  },
  {
   "cell_type": "code",
   "execution_count": 112,
   "metadata": {},
   "outputs": [],
   "source": [
    "Avg_Accumaltive_SR3 = np.abs(100-Avg_Accumaltive_SR2)"
   ]
  },
  {
   "cell_type": "markdown",
   "metadata": {},
   "source": [
    "## The single weight that has been chosen by Successive Rejects method\n",
    "\n",
    "Practically we choose k weights that have high rewards but the purpose of this file to show the computation time and which is the method be able to choose best arm comparing to direct method."
   ]
  },
  {
   "cell_type": "code",
   "execution_count": 113,
   "metadata": {},
   "outputs": [
    {
     "name": "stdout",
     "output_type": "stream",
     "text": [
      "The index of chosen  W_ji is =  11 15\n"
     ]
    }
   ],
   "source": [
    "reshapeS = Avg_Accumaltive_SR3.reshape(N1,N2)\n",
    "S = np.argmax(Avg_Accumaltive_SR3)\n",
    "Si,Sj = np.unravel_index(S, reshapeS.shape)\n",
    "print(\"The index of chosen  W_ji is = \", Sj, Si)"
   ]
  },
  {
   "cell_type": "markdown",
   "metadata": {},
   "source": [
    "# Best Arm Identification: A Unified Approach to Fixed Budget and Fixed Confidence\n",
    "\n",
    "\n",
    "\n",
    "The implimetation based on:\n",
    "\n",
    "\n",
    "\n",
    "\n",
    "K. Terayama, H. Iwata, M. Araki, Y. Okuno, K. Tsuda, \"Machine Learning Accelerates MD-based Binding-Pose Prediction between Ligands and Proteins\", Bioinformatics, 2017.\n",
    "\n",
    "\n",
    "Gabillon, V.; Ghavamzadeh, M.; Lazaric, A. \"Best arm identification: A unified approach to fixed budget and fixed confidence.\" NIPS, pp.3212–3220, 2012."
   ]
  },
  {
   "cell_type": "markdown",
   "metadata": {},
   "source": [
    "## Pruning weights"
   ]
  },
  {
   "cell_type": "code",
   "execution_count": 114,
   "metadata": {},
   "outputs": [],
   "source": [
    "a=0.25\n",
    "def beta(s, budget, K, a, mean_list, automatic = False, auto_para = 1, H = 1):\n",
    "    if automatic:\n",
    "        alpha = auto_para\n",
    "\n",
    "        a = alpha* (budget - K)/(4*H)\n",
    "        return np.sqrt(a / s)\n",
    "    else:\n",
    "        return np.sqrt(a*(budget - K) / s)\n",
    "\n",
    "def U(i, t, budget, pulls, a):\n",
    "    K = len(pulls)\n",
    "    return np.mean(pulls[i]) + beta(len(pulls[i]), budget, K, a)\n",
    "\n",
    "def L(i, t, budget, pulls, a):\n",
    "    K = len(pulls)\n",
    "    return np.mean(pulls[i]) - beta(len(pulls[i]), budget, K, a)\n",
    "\n",
    "def B(i, t, budget, pulls, a, K):\n",
    "    list_woi = range(K)\n",
    "    list_woi.pop(i)\n",
    "    return np.max([U(j, t, budget, pulls, a) - L(i, t, budget, pulls, a)  for j in list_woi])\n",
    "\n",
    "def calc_B(k, U_l, L_l, K, max_U_i_t_index, max_U_i_t, max_U_i_eq_k):\n",
    "    if k == max_U_i_t_index:\n",
    "        return max_U_i_eq_k - L_l[k]\n",
    "    else:\n",
    "        return max_U_i_t - L_l[k]"
   ]
  },
  {
   "cell_type": "code",
   "execution_count": 115,
   "metadata": {},
   "outputs": [
    {
     "name": "stdout",
     "output_type": "stream",
     "text": [
      "Execution time  16.286489248275757\n"
     ]
    }
   ],
   "source": [
    "import copy as cp\n",
    "startUB = time.time()\n",
    "N_arry = np.zeros(N1*N2)\n",
    "NL = np.zeros(Round)\n",
    "Avg_Accumaltive_UB = np.zeros(N1*N2)\n",
    "Count_UB = np.ones(N1*N2)\n",
    "UB = np.zeros(Round)\n",
    "p_reshape = Avg_Accumaltive_UB.reshape(N1,N2)\n",
    "count = 0\n",
    "import random\n",
    "K = N1*N2\n",
    "# Play each arm once\n",
    "for i in range(N1): \n",
    "    for j in range(N2):\n",
    "            loss, accuracy = modelBuckup.evaluate(X_train[1:10], labelsTrain[1:10], batch_size=1, verbose=0)\n",
    "            All_weights=modelBuckup.get_weights()\n",
    "            temp = All_weights[2][i][j]\n",
    "            All_weights[2][i][j] = 0 \n",
    "            modelBuckup.set_weights(All_weights)\n",
    "            loss_New, accuracy_New = modelBuckup.evaluate(X_train[1:10], labelsTrain[1:10], batch_size=1, verbose=0)\n",
    "            delta = loss_New - loss\n",
    "            reward = max(0,Threshold + delta)/constant\n",
    "            All_weights[2][i][j]= temp\n",
    "            Avg_Accumaltive_UB[count] = reward\n",
    "            modelBuckup.set_weights(All_weights)\n",
    "            count = count+1\n",
    "#Exploration loop\n",
    "for j in range(N1+N2-1, Round):\n",
    "            mean_list = [np.mean(Avg_Accumaltive_UB[i]) for i in range(K)]\n",
    "            beta_list = [beta(len([Avg_Accumaltive_UB[i]]), Round, K, a, mean_list) for i in range(K)]\n",
    "            b = random.randint(0,noExamples-1)  \n",
    "            loss, accuracy = modelBuckup.evaluate(X_train[b:b+1], labelsTrain[b:b+1], batch_size=1, verbose=0)\n",
    "            U_list = [mean_list[i] + beta_list[i] for i in range(K)]\n",
    "            L_list = [mean_list[i] - beta_list[i] for i in range(K)]\n",
    "            max_U_i_t_index = np.argmax(U_list)\n",
    "            max_U_i_t = U_list[max_U_i_t_index]\n",
    "            max_U_i_eq_k = np.max(cp.copy(U_list).pop(max_U_i_t_index))\n",
    "            B_list = [calc_B(k, U_list, L_list, K, max_U_i_t_index, max_U_i_t, max_U_i_eq_k) for k in range(K)]\n",
    "            J_t = np.argmin([B_list[i] if Count_UB[i] < 20 else 10**10 for i in range(K)])\n",
    "            list_woJt = list(range(K))\n",
    "            list_woJt.pop(J_t)\n",
    "            u_t = list_woJt[np.argmax([U_list[i] if Count_UB[i] < 20 else -10**10 for i in list_woJt])]\n",
    "            l_t = J_t\n",
    "            I_t = [l_t, u_t][np.argmax([beta_list[i] for i in [l_t, u_t]])]   \n",
    "            i,k = np.unravel_index(ind, p_reshape.shape)\n",
    "            Count_UB[I_t] = Count_UB[I_t] + 1     \n",
    "            All_weights=modelBuckup.get_weights()\n",
    "            temp = All_weights[2][i][k]\n",
    "            All_weights[2][i][k] = 0           \n",
    "            modelBuckup.set_weights(All_weights)\n",
    "            loss_New, accuracy_New = modelBuckup.evaluate(X_train[b:b+1], labelsTrain[b:b+1], batch_size=1, verbose=0)\n",
    "            delta = loss_New - loss\n",
    "            reward = max(0,Threshold + delta)/constant\n",
    "            All_weights[2][i][k] = temp\n",
    "            modelBuckup.set_weights(All_weights)\n",
    "            val = Count_UB[I_t]\n",
    "            Avg_Accumaltive_UB[I_t] = (val-1)/val * Avg_Accumaltive_UB[I_t] + 1/val * reward\n",
    "            modelBuckup.set_weights(All_weights)\n",
    "            UB[j]=I_t            \n",
    "endUB = time.time()\n",
    "print(\"Execution time \",endUB - startUB)"
   ]
  },
  {
   "cell_type": "code",
   "execution_count": 116,
   "metadata": {},
   "outputs": [],
   "source": [
    "Avg_Accumaltive_UB3 = np.abs(100-Avg_Accumaltive_UB)"
   ]
  },
  {
   "cell_type": "markdown",
   "metadata": {},
   "source": [
    "## The single weight that has been chosen by Successive Rejects method\n",
    "\n",
    "Practically we choose k weights that have high rewards but the purpose of this file to show the computation time and which is the method be able to choose best arm comparing to direct method."
   ]
  },
  {
   "cell_type": "code",
   "execution_count": 117,
   "metadata": {},
   "outputs": [
    {
     "name": "stdout",
     "output_type": "stream",
     "text": [
      "The index of chosen  W_ji is =  0 0\n"
     ]
    }
   ],
   "source": [
    "reshapeS = Avg_Accumaltive_UB3.reshape(N1,N2)\n",
    "S = np.argmax(Avg_Accumaltive_UB3)\n",
    "Si,Sj = np.unravel_index(S, reshapeS.shape)\n",
    "print(\"The index of chosen  W_ji is = \", Sj, Si)"
   ]
  },
  {
   "cell_type": "markdown",
   "metadata": {},
   "source": [
    "# Comparing the results"
   ]
  },
  {
   "cell_type": "markdown",
   "metadata": {},
   "source": [
    "## Rewards in each method"
   ]
  },
  {
   "cell_type": "markdown",
   "metadata": {},
   "source": [
    "print(\" \\nReward of Direct Method :\")\n",
    "print(N_arryD)\n",
    "print(\" \\nReward of Epsilon Greey Method :\")\n",
    "print(Avg_Accumaltive_R_EGN)\n",
    "print(\" \\nReward of UCB Method :\")\n",
    "print(Avg_Accumaltive_UCB)\n",
    "print(\" \\nReward of Thompson Sampling Method :\")\n",
    "print(Avg_Accumaltive_TS)\n",
    "print(\" \\nReward of Successive Rejects Method :\")\n",
    "print(Avg_Accumaltive_SR3)"
   ]
  },
  {
   "cell_type": "markdown",
   "metadata": {},
   "source": [
    "## Execution time for different methods including Direct Method"
   ]
  },
  {
   "cell_type": "code",
   "execution_count": 118,
   "metadata": {},
   "outputs": [
    {
     "name": "stdout",
     "output_type": "stream",
     "text": [
      "Execution time of Direct Method             = 208.59116196632385\n",
      "Execution time of Epsilon Greedy Method     = 7.548367977142334\n",
      "Execution time of UCB1 Method               = 8.473400115966797\n",
      "Execution time of Thompson Sampling Method  = 7.545936822891235\n",
      "Execution time of Successive Rejects Method = 95.23023200035095\n",
      "Execution time of Unified Approach Method   = 16.286489248275757\n",
      "Execution time of Random policy Method      = 4.644942045211792\n"
     ]
    }
   ],
   "source": [
    "print(\"Execution time of Direct Method             =\",endD - startD)\n",
    "print(\"Execution time of Epsilon Greedy Method     =\",endG - startG)\n",
    "print(\"Execution time of UCB1 Method               =\",endU - startU)\n",
    "print(\"Execution time of Thompson Sampling Method  =\",endT - startT)\n",
    "print(\"Execution time of Successive Rejects Method =\",endS - startS)\n",
    "print(\"Execution time of Unified Approach Method   =\",endUB - startUB)\n",
    "print(\"Execution time of Random policy Method      =\",endP - startP)"
   ]
  },
  {
   "cell_type": "code",
   "execution_count": 119,
   "metadata": {},
   "outputs": [
    {
     "data": {
      "text/html": [
       "<div>\n",
       "<style scoped>\n",
       "    .dataframe tbody tr th:only-of-type {\n",
       "        vertical-align: middle;\n",
       "    }\n",
       "\n",
       "    .dataframe tbody tr th {\n",
       "        vertical-align: top;\n",
       "    }\n",
       "\n",
       "    .dataframe thead th {\n",
       "        text-align: right;\n",
       "    }\n",
       "</style>\n",
       "<table border=\"1\" class=\"dataframe\">\n",
       "  <thead>\n",
       "    <tr style=\"text-align: right;\">\n",
       "      <th></th>\n",
       "      <th>Name of Method</th>\n",
       "      <th>Execution Time</th>\n",
       "    </tr>\n",
       "  </thead>\n",
       "  <tbody>\n",
       "    <tr>\n",
       "      <th>0</th>\n",
       "      <td>Direct Method</td>\n",
       "      <td>208.591162</td>\n",
       "    </tr>\n",
       "    <tr>\n",
       "      <th>1</th>\n",
       "      <td>Epsilon Greedy</td>\n",
       "      <td>7.548368</td>\n",
       "    </tr>\n",
       "    <tr>\n",
       "      <th>2</th>\n",
       "      <td>UCB1</td>\n",
       "      <td>8.473400</td>\n",
       "    </tr>\n",
       "    <tr>\n",
       "      <th>3</th>\n",
       "      <td>Thompson Sampling</td>\n",
       "      <td>7.545937</td>\n",
       "    </tr>\n",
       "    <tr>\n",
       "      <th>4</th>\n",
       "      <td>Successive Rejects</td>\n",
       "      <td>95.230232</td>\n",
       "    </tr>\n",
       "    <tr>\n",
       "      <th>5</th>\n",
       "      <td>Unified Approach</td>\n",
       "      <td>16.286489</td>\n",
       "    </tr>\n",
       "    <tr>\n",
       "      <th>6</th>\n",
       "      <td>Random policy</td>\n",
       "      <td>4.644942</td>\n",
       "    </tr>\n",
       "  </tbody>\n",
       "</table>\n",
       "</div>"
      ],
      "text/plain": [
       "       Name of Method  Execution Time\n",
       "0       Direct Method      208.591162\n",
       "1      Epsilon Greedy        7.548368\n",
       "2                UCB1        8.473400\n",
       "3   Thompson Sampling        7.545937\n",
       "4  Successive Rejects       95.230232\n",
       "5    Unified Approach       16.286489\n",
       "6       Random policy        4.644942"
      ]
     },
     "execution_count": 119,
     "metadata": {},
     "output_type": "execute_result"
    }
   ],
   "source": [
    "Time = {'Name of Method': [\"Direct Method\",\"Epsilon Greedy\", \"UCB1\", \"Thompson Sampling\", \"Successive Rejects\",\"Unified Approach\", \"Random policy\"], \n",
    "        'Execution Time': [endD - startD, endG - startG, endU - startU, endT - startT, endS - startS, endUB - startUB, endP - startP]}\n",
    "df_time = pd.DataFrame.from_dict(Time)\n",
    "df_time"
   ]
  },
  {
   "cell_type": "code",
   "execution_count": 120,
   "metadata": {},
   "outputs": [
    {
     "data": {
      "application/pdf": "[encoded data removed]",
      "image/png": "[encoded data removed]",
      "text/plain": [
       "<Figure size 1296x864 with 1 Axes>"
      ]
     },
     "metadata": {
      "needs_background": "light"
     },
     "output_type": "display_data"
    }
   ],
   "source": [
    "plt.rcParams['figure.figsize'] = (18, 12)\n",
    "df_time.plot.bar(x='Name of Method', y='Execution Time', rot=0);"
   ]
  },
  {
   "cell_type": "markdown",
   "metadata": {},
   "source": [
    "## Execution time for different methods _not_ including Direct Method"
   ]
  },
  {
   "cell_type": "code",
   "execution_count": 121,
   "metadata": {},
   "outputs": [
    {
     "data": {
      "application/pdf": "[encoded data removed]",
      "image/png": "[encoded data removed]",
      "text/plain": [
       "<Figure size 1296x864 with 1 Axes>"
      ]
     },
     "metadata": {
      "needs_background": "light"
     },
     "output_type": "display_data"
    }
   ],
   "source": [
    "Time = {'Name of Method': [\"Epsilon Greedy\", \"UCB1\", \"Thompson Sampling\", \"Successive Rejects\",\"Unified Approach\",\"Random policy\"], \n",
    "        'Execution Time': [endG - startG, endU - startU, endT - startT, endS - startS, endUB - startUB, endP - startP]}\n",
    "df_time = pd.DataFrame.from_dict(Time)\n",
    "plt.rcParams['figure.figsize'] = (18, 12)\n",
    "df_time.plot.bar(x='Name of Method', y='Execution Time', rot=0, color ='red');"
   ]
  },
  {
   "cell_type": "markdown",
   "metadata": {},
   "source": [
    "## Compute Spearman’s rank correlation"
   ]
  },
  {
   "cell_type": "markdown",
   "metadata": {},
   "source": [
    "This method has been used in the paper [1] (ICLR 2017 paper from NVIDIA) to compare the different pruning methods compare to the direct (oracle) method as following:\n",
    "\n",
    "Given the difference between the direct method and other method, $ d_i = rank(\\theta _d(i) - rand( \\theta _{other}(i))$ for each parameter $i$, the rank correlation is computer:\n",
    "\n",
    "$ S = 1 - \\frac{6}{N(N^2-1)} \\sum_{i=1}^{N} d_{i}^{2}$\n",
    "\n",
    "\n",
    "\n",
    "[1] https://arxiv.org/pdf/1611.06440.pdf\n"
   ]
  },
  {
   "cell_type": "code",
   "execution_count": 122,
   "metadata": {},
   "outputs": [],
   "source": [
    "df_D = pd.DataFrame({\"Weights_Direct\":N_arryD})\n",
    "df_G = pd.DataFrame({\"Weights_E_Greedy\":Avg_Accumaltive_R_EGN})\n",
    "df_U = pd.DataFrame({\"Weights_UCB\":Avg_Accumaltive_UCB}) \n",
    "df_T = pd.DataFrame({\"Weights_TS\":Avg_Accumaltive_TS}) \n",
    "df_S = pd.DataFrame({\"Weights_SR\":Avg_Accumaltive_SR3})\n",
    "df_UB = pd.DataFrame({\"Weights_SR\":Avg_Accumaltive_UB})\n",
    "df_RP = pd.DataFrame({\"Weights_SR\":Avg_Accumaltive_RP})"
   ]
  },
  {
   "cell_type": "markdown",
   "metadata": {},
   "source": [
    "df_D[\"Direct Rank\"] = df_D.rank(method='max')\n",
    "df_G[\"E_Greedy Rank\"] = df_G.rank(method='max')\n",
    "df_U[\"UCB Rank\"] = df_U.rank(method='max')\n",
    "df_T[\"TS Rank\"] = df_T.rank(method='max')\n",
    "df_S[\"SR Rank\"] = df_S.rank(method='max')"
   ]
  },
  {
   "cell_type": "code",
   "execution_count": 123,
   "metadata": {},
   "outputs": [],
   "source": [
    "df_D[\"Direct Rank\"] = df_D.rank()\n",
    "df_G[\"E_Greedy Rank\"] = df_G.rank()\n",
    "df_U[\"UCB Rank\"] = df_U.rank()\n",
    "df_T[\"TS Rank\"] = df_T.rank()\n",
    "df_S[\"SR Rank\"] = df_S.rank()\n",
    "df_UB[\"Unified Approach\"] = df_UB.rank()\n",
    "df_RP[\"Random policy\"] = df_RP.rank()"
   ]
  },
  {
   "cell_type": "code",
   "execution_count": 124,
   "metadata": {},
   "outputs": [],
   "source": [
    "df_D[\"d E_Greedy\"] = df_D[\"Direct Rank\"] - df_G[\"E_Greedy Rank\"]\n",
    "df_D[\"d UCB\"] = df_D[\"Direct Rank\"] - df_U[\"UCB Rank\"]\n",
    "df_D[\"d TS\"] = df_D[\"Direct Rank\"] - df_T[\"TS Rank\"]\n",
    "df_D[\"d SR\"] = df_D[\"Direct Rank\"] - df_S[\"SR Rank\"]\n",
    "df_D[\"d UB\"] = df_D[\"Direct Rank\"] - df_UB[\"Unified Approach\"]\n",
    "df_D[\"d RP\"] = df_D[\"Direct Rank\"] - df_RP[\"Random policy\"]"
   ]
  },
  {
   "cell_type": "code",
   "execution_count": 125,
   "metadata": {},
   "outputs": [],
   "source": [
    "df_D[\"d square E_Greedy\"] = df_D[\"d E_Greedy\"] * df_D[\"d E_Greedy\"]\n",
    "df_D[\"d square UCB\"] = df_D[\"d UCB\"] * df_D[\"d UCB\"]\n",
    "df_D[\"d square TS\"] = df_D[\"d TS\"] * df_D[\"d TS\"]\n",
    "df_D[\"d square SR\"] = df_D[\"d SR\"] * df_D[\"d SR\"]\n",
    "df_D[\"d square UB\"] = df_D[\"d UB\"] * df_D[\"d UB\"]\n",
    "df_D[\"d square RP\"] = df_D[\"d RP\"] * df_D[\"d RP\"]"
   ]
  },
  {
   "cell_type": "code",
   "execution_count": 126,
   "metadata": {},
   "outputs": [],
   "source": [
    "S_E_greedy = 1 - 6/(N1*N2*((N1*N2)**2 - 1)) * df_D[\"d square E_Greedy\"].sum()\n",
    "S_UCB = 1 - 6/(N1*N2*((N1*N2)**2 - 1)) * df_D[\"d square UCB\"].sum()\n",
    "S_TS = 1 - 6/(N1*N2*((N1*N2)**2 - 1)) * df_D[\"d square TS\"].sum()\n",
    "S_SR = 1 - 6/(N1*N2*((N1*N2)**2 - 1)) * df_D[\"d square SR\"].sum()\n",
    "S_UB = 1 - 6/(N1*N2*((N1*N2)**2 - 1)) * df_D[\"d square UB\"].sum()\n",
    "S_RP = 1 - 6/(N1*N2*((N1*N2)**2 - 1)) * df_D[\"d square RP\"].sum()"
   ]
  },
  {
   "cell_type": "code",
   "execution_count": 127,
   "metadata": {},
   "outputs": [],
   "source": [
    "data = {'Name of Method': [\"Epsilon Greedy\", \"UCB1\", \"Thompson Sampling\", \"Successive Rejects\",\"Unified Approach\", \"Random policy\"], 'Spearman rank correlation': [S_E_greedy, S_UCB, S_TS, S_SR, S_UB, S_RP]}\n",
    "df_cor = pd.DataFrame.from_dict(data)"
   ]
  },
  {
   "cell_type": "code",
   "execution_count": 128,
   "metadata": {},
   "outputs": [
    {
     "data": {
      "text/html": [
       "<div>\n",
       "<style scoped>\n",
       "    .dataframe tbody tr th:only-of-type {\n",
       "        vertical-align: middle;\n",
       "    }\n",
       "\n",
       "    .dataframe tbody tr th {\n",
       "        vertical-align: top;\n",
       "    }\n",
       "\n",
       "    .dataframe thead th {\n",
       "        text-align: right;\n",
       "    }\n",
       "</style>\n",
       "<table border=\"1\" class=\"dataframe\">\n",
       "  <thead>\n",
       "    <tr style=\"text-align: right;\">\n",
       "      <th></th>\n",
       "      <th>Name of Method</th>\n",
       "      <th>Spearman rank correlation</th>\n",
       "    </tr>\n",
       "  </thead>\n",
       "  <tbody>\n",
       "    <tr>\n",
       "      <th>0</th>\n",
       "      <td>Epsilon Greedy</td>\n",
       "      <td>0.581636</td>\n",
       "    </tr>\n",
       "    <tr>\n",
       "      <th>1</th>\n",
       "      <td>UCB1</td>\n",
       "      <td>0.586599</td>\n",
       "    </tr>\n",
       "    <tr>\n",
       "      <th>2</th>\n",
       "      <td>Thompson Sampling</td>\n",
       "      <td>0.504236</td>\n",
       "    </tr>\n",
       "    <tr>\n",
       "      <th>3</th>\n",
       "      <td>Successive Rejects</td>\n",
       "      <td>0.301982</td>\n",
       "    </tr>\n",
       "    <tr>\n",
       "      <th>4</th>\n",
       "      <td>Unified Approach</td>\n",
       "      <td>0.474530</td>\n",
       "    </tr>\n",
       "    <tr>\n",
       "      <th>5</th>\n",
       "      <td>Random policy</td>\n",
       "      <td>0.524012</td>\n",
       "    </tr>\n",
       "  </tbody>\n",
       "</table>\n",
       "</div>"
      ],
      "text/plain": [
       "       Name of Method  Spearman rank correlation\n",
       "0      Epsilon Greedy                   0.581636\n",
       "1                UCB1                   0.586599\n",
       "2   Thompson Sampling                   0.504236\n",
       "3  Successive Rejects                   0.301982\n",
       "4    Unified Approach                   0.474530\n",
       "5       Random policy                   0.524012"
      ]
     },
     "execution_count": 128,
     "metadata": {},
     "output_type": "execute_result"
    }
   ],
   "source": [
    "df_cor"
   ]
  },
  {
   "cell_type": "code",
   "execution_count": 129,
   "metadata": {},
   "outputs": [
    {
     "data": {
      "application/pdf": "[encoded data removed]",
      "image/png": "[encoded data removed]",
      "text/plain": [
       "<Figure size 1296x864 with 1 Axes>"
      ]
     },
     "metadata": {
      "needs_background": "light"
     },
     "output_type": "display_data"
    }
   ],
   "source": [
    "plt.rcParams['figure.figsize'] = (18, 12)\n",
    "df_cor.plot.bar(x='Name of Method', y='Spearman rank correlation', rot=0, color='green');"
   ]
  },
  {
   "cell_type": "code",
   "execution_count": null,
   "metadata": {},
   "outputs": [],
   "source": []
  }
 ],
 "metadata": {
  "kernelspec": {
   "display_name": "Python 3",
   "language": "python",
   "name": "python3"
  },
  "language_info": {
   "codemirror_mode": {
    "name": "ipython",
    "version": 3
   },
   "file_extension": ".py",
   "mimetype": "text/x-python",
   "name": "python",
   "nbconvert_exporter": "python",
   "pygments_lexer": "ipython3",
   "version": "3.7.2"
  }
 },
 "nbformat": 4,
 "nbformat_minor": 2
}
