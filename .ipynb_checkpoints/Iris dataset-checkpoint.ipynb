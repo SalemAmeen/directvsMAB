{
 "cells": [
  {
   "cell_type": "markdown",
   "metadata": {},
   "source": [
    "# Importing the important libraries"
   ]
  },
  {
   "cell_type": "code",
   "execution_count": 1,
   "metadata": {},
   "outputs": [],
   "source": [
    "import pandas\n",
    "import pandas as pd\n",
    "import numpy\n",
    "import sys\n",
    "%matplotlib inline\n",
    "import matplotlib.pyplot as plt\n",
    "from pandas.tools.plotting import scatter_matrix\n",
    "import numpy as np\n",
    "import time\n",
    "import sklearn\n",
    "from IPython.display import set_matplotlib_formats\n",
    "set_matplotlib_formats('png', 'pdf')\n",
    "# fix random seed for reproducibility\n",
    "plt.rcParams['figure.figsize'] = (15, 6)\n",
    "from sklearn.datasets.samples_generator import make_blobs\n",
    "from pandas.tools.plotting import parallel_coordinates"
   ]
  },
  {
   "cell_type": "markdown",
   "metadata": {},
   "source": [
    "# Data Set"
   ]
  },
  {
   "cell_type": "markdown",
   "metadata": {},
   "source": [
    "## Load the dataset\n",
    "\n",
    "\n",
    "To download the sataset from the web follow this is the link https://archive.ics.uci.edu/ml/datasets/iris"
   ]
  },
  {
   "cell_type": "code",
   "execution_count": 7,
   "metadata": {},
   "outputs": [],
   "source": [
    "from sklearn import datasets\n",
    "iris = datasets.load_iris()\n",
    "shuffle = np.arange(len(iris.data))\n",
    "np.random.shuffle(shuffle)\n",
    "iris.data = iris.data[shuffle]\n",
    "iris.target = iris.target[shuffle]\n",
    "X = iris.data\n",
    "y = iris.target"
   ]
  },
  {
   "cell_type": "markdown",
   "metadata": {},
   "source": [
    "## Peprocess the data"
   ]
  },
  {
   "cell_type": "code",
   "execution_count": 8,
   "metadata": {
    "collapsed": false
   },
   "outputs": [],
   "source": [
    "df = pandas.DataFrame(X,y)"
   ]
  },
  {
   "cell_type": "markdown",
   "metadata": {},
   "source": [
    "## Prepare the data for classification"
   ]
  },
  {
   "cell_type": "code",
   "execution_count": 9,
   "metadata": {
    "collapsed": false
   },
   "outputs": [],
   "source": [
    "dataset = df.values"
   ]
  },
  {
   "cell_type": "code",
   "execution_count": 10,
   "metadata": {
    "collapsed": false
   },
   "outputs": [],
   "source": [
    "from sklearn import preprocessing\n",
    "# for training data\n",
    "X = dataset.astype(float)\n",
    "features = preprocessing.scale(X)\n",
    "target = y"
   ]
  },
  {
   "cell_type": "code",
   "execution_count": 11,
   "metadata": {
    "collapsed": false
   },
   "outputs": [
    {
     "data": {
      "text/plain": [
       "(150, 4)"
      ]
     },
     "execution_count": 11,
     "metadata": {},
     "output_type": "execute_result"
    }
   ],
   "source": [
    "X.shape"
   ]
  },
  {
   "cell_type": "markdown",
   "metadata": {},
   "source": [
    "## Feature Selection"
   ]
  },
  {
   "cell_type": "code",
   "execution_count": 12,
   "metadata": {
    "collapsed": false
   },
   "outputs": [],
   "source": [
    "from sklearn.model_selection import train_test_split\n",
    "# Extracting 20% validation data\n",
    "X_train, X_test, y_train, y_test = train_test_split(\n",
    "    features, target, test_size=50, random_state=17)"
   ]
  },
  {
   "cell_type": "markdown",
   "metadata": {},
   "source": [
    "## Preproccing"
   ]
  },
  {
   "cell_type": "code",
   "execution_count": 13,
   "metadata": {
    "collapsed": false
   },
   "outputs": [
    {
     "name": "stdout",
     "output_type": "stream",
     "text": [
      "Number of training examples 100\n",
      "Number of validation examples 50\n"
     ]
    }
   ],
   "source": [
    "print('Number of training examples',len(X_train))\n",
    "print('Number of validation examples',len(X_test))"
   ]
  },
  {
   "cell_type": "code",
   "execution_count": 14,
   "metadata": {
    "collapsed": false
   },
   "outputs": [],
   "source": [
    "from sklearn import preprocessing\n",
    "# normalize the data attributes\n",
    "X_train = preprocessing.normalize(X_train)\n",
    "#X_test = preprocessing.normalize(X_test)\n",
    "# standardize the data attributes\n",
    "X_train = preprocessing.scale(X_train)\n",
    "#X_test = preprocessing.scale(X_test)"
   ]
  },
  {
   "cell_type": "markdown",
   "metadata": {},
   "source": [
    "# Neural Networks"
   ]
  },
  {
   "cell_type": "code",
   "execution_count": 16,
   "metadata": {
    "collapsed": false
   },
   "outputs": [
    {
     "name": "stdout",
     "output_type": "stream",
     "text": [
      "The time for training NN is  11.240535974502563 seconds \n",
      "Test fraction correct (NN-loss) = 0.11\n",
      "Test fraction correct (NN-Accuracy) = 0.96\n"
     ]
    }
   ],
   "source": [
    "import seaborn as sns\n",
    "from sklearn.model_selection import train_test_split\n",
    "from keras.models import Sequential\n",
    "from keras.layers import Dense, Dropout\n",
    "from keras.regularizers import l2\n",
    "from keras.utils import np_utils\n",
    "N1 = 16\n",
    "N2 = 16\n",
    "labelsTrain = np_utils.to_categorical(y_train)\n",
    "model = Sequential()\n",
    "model.add(Dense(N1,\n",
    "                input_shape=(4,), \n",
    "                activation=\"relu\"))\n",
    "model.add(Dense(N2, activation='relu'))\n",
    "model.add(Dense(3, activation=\"softmax\"))\n",
    "model.compile(loss='categorical_crossentropy',\n",
    "              metrics=['accuracy'],\n",
    "              optimizer='adam')\n",
    "start_time = time.time()\n",
    "model.fit(X_train, labelsTrain, verbose=0, batch_size=1, epochs=100)\n",
    "print(\"The time for training NN is  %s seconds \" % (time.time() - start_time))\n",
    "loss, accuracy = model.evaluate(X_train, labelsTrain, batch_size=1, verbose=0)\n",
    "print(\"Test fraction correct (NN-loss) = {:.2f}\".format(loss))\n",
    "print(\"Test fraction correct (NN-Accuracy) = {:.2f}\".format(accuracy))"
   ]
  },
  {
   "cell_type": "code",
   "execution_count": 12,
   "metadata": {},
   "outputs": [],
   "source": [
    "modelBuckup = model"
   ]
  },
  {
   "cell_type": "markdown",
   "metadata": {},
   "source": [
    "## The Architecture of the Model"
   ]
  },
  {
   "cell_type": "code",
   "execution_count": 13,
   "metadata": {},
   "outputs": [
    {
     "name": "stdout",
     "output_type": "stream",
     "text": [
      "_________________________________________________________________\n",
      "Layer (type)                 Output Shape              Param #   \n",
      "=================================================================\n",
      "dense_1 (Dense)              (None, 30)                1740      \n",
      "_________________________________________________________________\n",
      "dense_2 (Dense)              (None, 30)                930       \n",
      "_________________________________________________________________\n",
      "dense_3 (Dense)              (None, 2)                 62        \n",
      "=================================================================\n",
      "Total params: 2,732\n",
      "Trainable params: 2,732\n",
      "Non-trainable params: 0\n",
      "_________________________________________________________________\n"
     ]
    }
   ],
   "source": [
    "modelBuckup.summary()"
   ]
  },
  {
   "cell_type": "markdown",
   "metadata": {},
   "source": [
    "# Direct Method for Pruning Weights"
   ]
  },
  {
   "cell_type": "markdown",
   "metadata": {},
   "source": [
    "## Pruning the weights"
   ]
  },
  {
   "cell_type": "code",
   "execution_count": 14,
   "metadata": {
    "collapsed": false
   },
   "outputs": [
    {
     "name": "stdout",
     "output_type": "stream",
     "text": [
      "Execution time  254.734543800354\n"
     ]
    }
   ],
   "source": [
    "startD = time.time()\n",
    "N_arry = np.zeros((N1*N2))\n",
    "N_arryD = np.zeros((N1*N2))\n",
    "noExamples = 100\n",
    "NL = np.zeros(noExamples)\n",
    "Threshold = 0\n",
    "constant=1\n",
    "for k in range(noExamples):\n",
    "    count = 0\n",
    "    for i in range(N1):\n",
    "        for j in range(N2):\n",
    "            loss, accuracy = modelBuckup.evaluate(X_train[k:k+1], labelsTrain[k:k+1], \n",
    "                                                 batch_size=1, verbose=0)\n",
    "        # Prune the neuron in the layer\n",
    "            All_weights=modelBuckup.get_weights()\n",
    "            temp = All_weights[2][i][j]\n",
    "            All_weights[2][i][j] = 0\n",
    "            modelBuckup.set_weights(All_weights)\n",
    "            loss_New, accuracy_New = modelBuckup.evaluate(X_train[k:k+1], labelsTrain[k:k+1], \n",
    "                                                         batch_size=1, verbose=0)\n",
    "            delta = loss_New - loss\n",
    "            #reward = max(0,Threshold + delta)/constant\n",
    "            #print('delta = ', delta)\n",
    "            All_weights[2][i][j]= temp  # before\n",
    "            N_arry[count] = max(delta,0) \n",
    "            count = count +1\n",
    "            modelBuckup.set_weights(All_weights)\n",
    "                #print(delta)\n",
    "    NL[k]=np.argmax(N_arry)\n",
    "    N_arryD = N_arryD + N_arry\n",
    "endD = time.time()\n",
    "print(\"Execution time \",endD - startD)"
   ]
  },
  {
   "cell_type": "markdown",
   "metadata": {},
   "source": [
    "## The single weight that has been chosen by direct method\n",
    "\n",
    "Practically we choose k weights that have high rewards but the purpose of this file to show the computation time and which is the method be able to choose best arm comparing to direct method."
   ]
  },
  {
   "cell_type": "code",
   "execution_count": 16,
   "metadata": {},
   "outputs": [
    {
     "name": "stdout",
     "output_type": "stream",
     "text": [
      "The index of chosen  W_ji is =  9 28\n"
     ]
    }
   ],
   "source": [
    "reshapeD = N_arryD.reshape(N1,N2)\n",
    "D = np.argmax(N_arryD)\n",
    "Di,Dj = np.unravel_index(D, reshapeD.shape)\n",
    "print(\"The index of chosen  W_ji is = \", Dj, Di)"
   ]
  },
  {
   "cell_type": "markdown",
   "metadata": {},
   "source": [
    "# Epsilon Greedy"
   ]
  },
  {
   "cell_type": "markdown",
   "metadata": {},
   "source": [
    "## Pruning the Weights"
   ]
  },
  {
   "cell_type": "code",
   "execution_count": 17,
   "metadata": {},
   "outputs": [],
   "source": [
    "Round = 2000  # will the same for all methods"
   ]
  },
  {
   "cell_type": "code",
   "execution_count": 18,
   "metadata": {
    "collapsed": false
   },
   "outputs": [
    {
     "name": "stdout",
     "output_type": "stream",
     "text": [
      "Execution time  10.472456932067871\n"
     ]
    }
   ],
   "source": [
    "startG = time.time()\n",
    "N_arry = np.zeros(N1*N2)\n",
    "noExamples = 100\n",
    "NL = np.zeros(noExamples)\n",
    "ep = np.zeros(Round)\n",
    "Avg_Accumaltive_R_EGN = np.zeros(N1*N2)\n",
    "p_reshape = Avg_Accumaltive_R_EGN.reshape(N1,N2)\n",
    "Count_EGN = np.ones(N1*N2)\n",
    "import random\n",
    "epsilon=0.5\n",
    "count = 0\n",
    "for i in range(N1): \n",
    "    for j in range(N2):\n",
    "            loss, accuracy = modelBuckup.evaluate(X_train[1:10], labelsTrain[1:10], batch_size=1, verbose=0)\n",
    "        # Prune the neuron in the layer\n",
    "            All_weights=modelBuckup.get_weights()\n",
    "            temp = All_weights[2][i][j]\n",
    "            All_weights[2][i][j] = 0 \n",
    "            modelBuckup.set_weights(All_weights)\n",
    "            loss_New, accuracy_New = modelBuckup.evaluate(X_train[1:10], labelsTrain[1:10], batch_size=1, verbose=0)\n",
    "            delta = loss_New - loss\n",
    "            reward = max(0,Threshold + delta)/constant\n",
    "            All_weights[2][i][j]= temp\n",
    "            Avg_Accumaltive_R_EGN[count] = reward\n",
    "            modelBuckup.set_weights(All_weights)\n",
    "            count = count+1\n",
    "for j in range(N1+N2-1, noExamples):\n",
    "            b = random.randint(0,noExamples-1)  \n",
    "            loss, accuracy = modelBuckup.evaluate(X_train[b:b+1], labelsTrain[b:b+1], batch_size=1, verbose=0)\n",
    "        # Prune the neuron in the layer\n",
    "            if (epsilon>random.uniform(0, 1)):\n",
    "                ind = np.argmax(Avg_Accumaltive_R_EGN)\n",
    "            else:\n",
    "                ind = random.randint(0,N1*N2-1)\n",
    "            i,k = np.unravel_index(ind, p_reshape.shape)\n",
    "            #print(i,k)\n",
    "            All_weights=modelBuckup.get_weights()\n",
    "            temp = All_weights[2][i][k]\n",
    "            All_weights[2][i][k] = 0\n",
    "            modelBuckup.set_weights(All_weights)\n",
    "            Count_EGN[ind]=Count_EGN[ind]+1\n",
    "            loss_New, accuracy_New = modelBuckup.evaluate(X_train[b:b+1], labelsTrain[b:b+1], batch_size=1, verbose=0)\n",
    "            delta = loss_New - loss\n",
    "            #print(delta)\n",
    "            reward = max(0,Threshold + delta)/constant\n",
    "            #print(reward)\n",
    "            val = Count_EGN[ind]\n",
    "            Avg_Accumaltive_R_EGN[ind] = (val-1)/val * Avg_Accumaltive_R_EGN[ind] + 1/val * reward\n",
    "            All_weights[2][i][k] = temp\n",
    "            modelBuckup.set_weights(All_weights)\n",
    "            ep[j]=ind\n",
    "endG = time.time()\n",
    "print(\"Execution time \",endG - startG)"
   ]
  },
  {
   "cell_type": "markdown",
   "metadata": {},
   "source": [
    "## The single weight that has been chosen by Epsilon Greedy method\n",
    "\n",
    "Practically we choose k weights that have high rewards but the purpose of this file to show the computation time and which is the method be able to choose best arm comparing to direct method."
   ]
  },
  {
   "cell_type": "code",
   "execution_count": 20,
   "metadata": {},
   "outputs": [
    {
     "name": "stdout",
     "output_type": "stream",
     "text": [
      "The index of chosen  W_ji is =  17 17\n"
     ]
    }
   ],
   "source": [
    "reshapeG = Avg_Accumaltive_R_EGN.reshape(N1,N2)\n",
    "G = np.argmax(Avg_Accumaltive_R_EGN)\n",
    "Gi,Gj = np.unravel_index(G, reshapeG.shape)\n",
    "print(\"The index of chosen  W_ji is = \", Gj, Gi)"
   ]
  },
  {
   "cell_type": "markdown",
   "metadata": {},
   "source": [
    "# UCB1"
   ]
  },
  {
   "cell_type": "markdown",
   "metadata": {},
   "source": [
    "## Pruning Weights"
   ]
  },
  {
   "cell_type": "code",
   "execution_count": 21,
   "metadata": {
    "collapsed": false
   },
   "outputs": [
    {
     "name": "stdout",
     "output_type": "stream",
     "text": [
      "Execution time  10.38884711265564\n"
     ]
    }
   ],
   "source": [
    "startU = time.time()\n",
    "N_arry = np.zeros(N1*N2)\n",
    "NL = np.zeros(noExamples)\n",
    "Avg_Accumaltive_UCB = np.zeros(N1*N2)\n",
    "Count_UCB = np.ones(N1*N2)\n",
    "UCB1 = np.zeros(Round)\n",
    "p_reshape = Avg_Accumaltive_UCB.reshape(N1,N2)\n",
    "count = 0\n",
    "import random\n",
    "tau=4\n",
    "for i in range(N1): \n",
    "    for j in range(N2):\n",
    "            loss, accuracy = modelBuckup.evaluate(X_train[1:10], labelsTrain[1:10], batch_size=1, verbose=0)\n",
    "        # Prune the neuron in the layer\n",
    "            All_weights=modelBuckup.get_weights()\n",
    "            temp = All_weights[2][i][j]\n",
    "            All_weights[2][i][j] = 0 \n",
    "            modelBuckup.set_weights(All_weights)\n",
    "            loss_New, accuracy_New = modelBuckup.evaluate(X_train[1:10], labelsTrain[1:10], batch_size=1, verbose=0)\n",
    "            delta = loss_New - loss\n",
    "            reward = max(0,Threshold + delta)/constant\n",
    "            All_weights[2][i][j]= temp\n",
    "            Avg_Accumaltive_UCB[count] = reward\n",
    "            modelBuckup.set_weights(All_weights)\n",
    "            count = count+1\n",
    "for j in range(N1+N2-1, noExamples):\n",
    "            b = random.randint(0,noExamples-1)  \n",
    "            loss, accuracy = modelBuckup.evaluate(X_train[b:b+1], labelsTrain[b:b+1], batch_size=1, verbose=0)\n",
    "        # Prune the neuron in the layer\n",
    "            padding = np.sqrt(2*Count_UCB.sum()/Count_UCB)\n",
    "            ucb = Avg_Accumaltive_UCB + padding\n",
    "            ind = np.argmax(ucb)\n",
    "            Count_UCB[ind] = Count_UCB[ind] + 1\n",
    "            i,k = np.unravel_index(ind, p_reshape.shape)\n",
    "            All_weights=modelBuckup.get_weights()\n",
    "            temp = All_weights[2][i][k]\n",
    "            All_weights[2][i][k] = 0           \n",
    "            modelBuckup.set_weights(All_weights)\n",
    "            loss_New, accuracy_New = modelBuckup.evaluate(X_train[b:b+1], labelsTrain[b:b+1], batch_size=1, verbose=0)\n",
    "            delta = loss_New - loss\n",
    "            reward = max(0,Threshold + delta)/constant\n",
    "            All_weights[2][i][k] = temp\n",
    "            modelBuckup.set_weights(All_weights)\n",
    "            val = Count_UCB[ind]\n",
    "            Avg_Accumaltive_UCB[ind] = (val-1)/val * Avg_Accumaltive_UCB[ind] + 1/val * reward\n",
    "            modelBuckup.set_weights(All_weights)\n",
    "            UCB1[j]=ind\n",
    "endU = time.time()\n",
    "print(\"Execution time \",endU - startU)"
   ]
  },
  {
   "cell_type": "markdown",
   "metadata": {},
   "source": [
    "## The single weight that has been chosen by UCB1 method\n",
    "\n",
    "Practically we choose k weights that have high rewards but the purpose of this file to show the computation time and which is the method be able to choose best arm comparing to direct method."
   ]
  },
  {
   "cell_type": "code",
   "execution_count": 23,
   "metadata": {},
   "outputs": [
    {
     "name": "stdout",
     "output_type": "stream",
     "text": [
      "The index of chosen  W_ji is =  17 17\n"
     ]
    }
   ],
   "source": [
    "reshapeU = Avg_Accumaltive_UCB.reshape(N1,N2)\n",
    "U = np.argmax(Avg_Accumaltive_UCB)\n",
    "Ui,Uj = np.unravel_index(U, reshapeU.shape)\n",
    "print(\"The index of chosen  W_ji is = \", Uj, Ui)"
   ]
  },
  {
   "cell_type": "markdown",
   "metadata": {},
   "source": [
    "# Thompson Sampling"
   ]
  },
  {
   "cell_type": "markdown",
   "metadata": {},
   "source": [
    "## Pruning weights"
   ]
  },
  {
   "cell_type": "code",
   "execution_count": 24,
   "metadata": {
    "collapsed": false
   },
   "outputs": [
    {
     "name": "stdout",
     "output_type": "stream",
     "text": [
      "Execution time  10.555812120437622\n"
     ]
    }
   ],
   "source": [
    "startT = time.time()\n",
    "N_arry = np.zeros(N1*N2)\n",
    "NL = np.zeros(noExamples)\n",
    "Avg_Accumaltive_TS = np.zeros(N1*N2)\n",
    "Count_TS = np.ones(N1*N2)\n",
    "TS = np.zeros(Round)\n",
    "p_reshape = Avg_Accumaltive_TS.reshape(N1,N2)\n",
    "count = 0\n",
    "success = np.zeros(N1*N2)\n",
    "failure = np.zeros(N1*N2)\n",
    "for i in range(N1): \n",
    "    for j in range(N2):\n",
    "            loss, accuracy = modelBuckup.evaluate(X_train[1:10], labelsTrain[1:10], batch_size=1, verbose=0)\n",
    "        # Prune the neuron in the layer\n",
    "            All_weights=modelBuckup.get_weights()\n",
    "            temp = All_weights[2][i][j]\n",
    "            All_weights[2][i][j] = 0 \n",
    "            modelBuckup.set_weights(All_weights)\n",
    "            loss_New, accuracy_New = modelBuckup.evaluate(X_train[1:10], labelsTrain[1:10], batch_size=1, verbose=0)\n",
    "            delta = loss_New - loss\n",
    "            if(delta>0):\n",
    "                reward = 1\n",
    "                success[i] = success[i]+1\n",
    "            else:\n",
    "                reward = 0\n",
    "                failure[i] = failure[i]+1                        \n",
    "            All_weights[2][i][j]= temp\n",
    "            Avg_Accumaltive_TS[count] = reward\n",
    "            modelBuckup.set_weights(All_weights)\n",
    "            count = count+1\n",
    "for j in range(N1+N2-1, noExamples):\n",
    "            b = random.randint(0,noExamples-1)  \n",
    "            loss, accuracy = modelBuckup.evaluate(X_train[b:b+1], labelsTrain[b:b+1], batch_size=1, verbose=0)\n",
    "        # Prune the neuron in the layer \n",
    "            ind = np.argmax(np.random.beta(1+success, 1+failure))\n",
    "            Count_TS[ind] = Count_TS[ind] + 1\n",
    "            i,k = np.unravel_index(ind, p_reshape.shape)\n",
    "            All_weights=modelBuckup.get_weights()\n",
    "            temp = All_weights[2][i][k]\n",
    "            All_weights[2][i][k] = 0                     \n",
    "            modelBuckup.set_weights(All_weights)\n",
    "            loss_New, accuracy_New = modelBuckup.evaluate(X_train[b:b+1], labelsTrain[b:b+1], batch_size=1, verbose=0)\n",
    "            delta = loss_New - loss\n",
    "            if(delta>0):\n",
    "                reward = 1\n",
    "                success[i] = success[i]+1\n",
    "            else:\n",
    "                reward = 0\n",
    "                failure[i] = failure[i]+1            \n",
    "            All_weights[2][i][k] = temp\n",
    "            modelBuckup.set_weights(All_weights)          \n",
    "            val = Count_TS[ind]\n",
    "            Avg_Accumaltive_TS[ind] = (val-1)/val * Avg_Accumaltive_TS[ind] + 1/val * reward\n",
    "            TS[j]=ind\n",
    "endT = time.time()\n",
    "print(\"Execution time \",endT - startT)"
   ]
  },
  {
   "cell_type": "markdown",
   "metadata": {},
   "source": [
    "## The single weight that has been chosen by Thompson Sampling method\n",
    "\n",
    "Practically we choose k weights that have high rewards but the purpose of this file to show the computation time and which is the method be able to choose best arm comparing to direct method."
   ]
  },
  {
   "cell_type": "code",
   "execution_count": 26,
   "metadata": {},
   "outputs": [
    {
     "name": "stdout",
     "output_type": "stream",
     "text": [
      "The index of chosen  W_ji is =  2 0\n"
     ]
    }
   ],
   "source": [
    "reshapeT = Avg_Accumaltive_TS.reshape(N1,N2)\n",
    "T = np.argmax(Avg_Accumaltive_TS)\n",
    "Ti,Tj = np.unravel_index(T, reshapeT.shape)\n",
    "print(\"The index of chosen  W_ji is = \", Tj, Ti)"
   ]
  },
  {
   "cell_type": "markdown",
   "metadata": {},
   "source": [
    "# Successive Rejects"
   ]
  },
  {
   "cell_type": "markdown",
   "metadata": {},
   "source": [
    "For a K-armed bandit, Successive Rejects operates in (K − 1) phases. At the end of each phase, the arm with the lowest average reward is discarded. Thus, at the end of phase (K − 1) only one arm survives, and this arm is recommended.\n"
   ]
  },
  {
   "cell_type": "markdown",
   "metadata": {},
   "source": [
    "## Pruning weights"
   ]
  },
  {
   "cell_type": "code",
   "execution_count": 27,
   "metadata": {},
   "outputs": [
    {
     "name": "stdout",
     "output_type": "stream",
     "text": [
      "Execution time  1609.4917278289795\n"
     ]
    }
   ],
   "source": [
    "startS = time.time()\n",
    "N_arry = np.zeros(N1*N2)\n",
    "NL = np.zeros(noExamples)\n",
    "sr = []\n",
    "Avg_Accumaltive_SR = np.zeros(N1*N2)\n",
    "Avg_Accumaltive_SR2 = np.zeros(N1*N2)\n",
    "Avg_Accumaltive_SR1 = np.zeros(N1*N2)\n",
    "p_reshape = Avg_Accumaltive_SR2.reshape(N1,N2)\n",
    "check_array = np.ones((N1,N2))\n",
    "Count_SR = np.ones(N1*N2)\n",
    "A = [0]\n",
    "K = N1*N2\n",
    "for k in range(K-2):\n",
    "    d = k+1\n",
    "    A.append(int(np.floor(1/np.log(K) * (Round-K)/(K+1-d))))\n",
    "A.sort(reverse=True)\n",
    "#print(\"The round of the phases : \",A)\n",
    "for a in A:\n",
    "    count=0\n",
    "    #print(a)\n",
    "    for n in range(a):\n",
    "        c=0\n",
    "        for i in range(N1):\n",
    "            for j in range(N2):\n",
    "                if check_array[i][j]==1:\n",
    "                    b = random.randint(0,noExamples-1) \n",
    "                    loss, accuracy = modelBuckup.evaluate(X_train[b:b+1], labelsTrain[b:b+1], batch_size=1, verbose=0)\n",
    "                    All_weights=modelBuckup.get_weights()\n",
    "                    All_weights[2][i][j] = 0\n",
    "                    modelBuckup.set_weights(All_weights)\n",
    "                    loss_New, accuracy_New = modelBuckup.evaluate(X_train[b:b+1], labelsTrain[b:b+1], batch_size=1, verbose=0)\n",
    "                    delta = loss_New - loss\n",
    "                    reward = max(0,Threshold + delta)/constant\n",
    "                    All_weights[2][i][j] = temp\n",
    "                    modelBuckup.set_weights(All_weights)\n",
    "                    val = Count_SR[c]\n",
    "                    #print(reward)\n",
    "                    Avg_Accumaltive_SR[c] = (val-1)/val * Avg_Accumaltive_SR[c] + 1/val * reward\n",
    "                    temp = All_weights[2][i][j]\n",
    "                    count = count+1\n",
    "                    c = c + 1    \n",
    "        Avg_Accumaltive_SR2=Avg_Accumaltive_SR2+Avg_Accumaltive_SR\n",
    "        Avg_Accumaltive_SR1=Avg_Accumaltive_SR2.copy()\n",
    "    ind = np.argmin(Avg_Accumaltive_SR2)\n",
    "    Avg_Accumaltive_SR2[ind] = 100\n",
    "    #print(Avg_Accumaltive_SR)\n",
    "    s,t = np.unravel_index(ind, p_reshape.shape)\n",
    "    check_array[s][t]=0\n",
    "    sr.append(ind)\n",
    "endS = time.time()\n",
    "print(\"Execution time \",endS - startS)"
   ]
  },
  {
   "cell_type": "code",
   "execution_count": 28,
   "metadata": {},
   "outputs": [],
   "source": [
    "Avg_Accumaltive_SR3 = np.abs(100-Avg_Accumaltive_SR2)"
   ]
  },
  {
   "cell_type": "markdown",
   "metadata": {},
   "source": [
    "## The single weight that has been chosen by Successive Rejects method\n",
    "\n",
    "Practically we choose k weights that have high rewards but the purpose of this file to show the computation time and which is the method be able to choose best arm comparing to direct method."
   ]
  },
  {
   "cell_type": "code",
   "execution_count": 32,
   "metadata": {},
   "outputs": [
    {
     "name": "stdout",
     "output_type": "stream",
     "text": [
      "The index of chosen  W_ji is =  16 25\n"
     ]
    }
   ],
   "source": [
    "reshapeS = Avg_Accumaltive_SR3.reshape(N1,N2)\n",
    "S = np.argmax(Avg_Accumaltive_SR3)\n",
    "Si,Sj = np.unravel_index(S, reshapeS.shape)\n",
    "print(\"The index of chosen  W_ji is = \", Sj, Si)"
   ]
  },
  {
   "cell_type": "markdown",
   "metadata": {},
   "source": [
    "# Comparing the results"
   ]
  },
  {
   "cell_type": "markdown",
   "metadata": {},
   "source": [
    "## Rewards in each method"
   ]
  },
  {
   "cell_type": "markdown",
   "metadata": {},
   "source": [
    "print(\" \\nReward of Direct Method :\")\n",
    "print(N_arryD)\n",
    "print(\" \\nReward of Epsilon Greey Method :\")\n",
    "print(Avg_Accumaltive_R_EGN)\n",
    "print(\" \\nReward of UCB Method :\")\n",
    "print(Avg_Accumaltive_UCB)\n",
    "print(\" \\nReward of Thompson Sampling Method :\")\n",
    "print(Avg_Accumaltive_TS)\n",
    "print(\" \\nReward of Successive Rejects Method :\")\n",
    "print(Avg_Accumaltive_SR3)"
   ]
  },
  {
   "cell_type": "markdown",
   "metadata": {},
   "source": [
    "## Execution time for different method"
   ]
  },
  {
   "cell_type": "code",
   "execution_count": 34,
   "metadata": {},
   "outputs": [
    {
     "name": "stdout",
     "output_type": "stream",
     "text": [
      "Execution time of Direct Method             = 254.734543800354\n",
      "Execution time of Epsilon Greedy Method     = 10.472456932067871\n",
      "Execution time of UCB1 Method               = 10.38884711265564\n",
      "Execution time of Thompson Sampling Method  = 10.555812120437622\n",
      "Execution time of Successive Rejects Method = 1609.4917278289795\n"
     ]
    }
   ],
   "source": [
    "print(\"Execution time of Direct Method             =\",endD - startD)\n",
    "print(\"Execution time of Epsilon Greedy Method     =\",endG - startG)\n",
    "print(\"Execution time of UCB1 Method               =\",endU - startU)\n",
    "print(\"Execution time of Thompson Sampling Method  =\",endT - startT)\n",
    "print(\"Execution time of Successive Rejects Method =\",endS - startS)"
   ]
  },
  {
   "cell_type": "markdown",
   "metadata": {},
   "source": [
    "## Compute Spearman’s rank correlation"
   ]
  },
  {
   "cell_type": "markdown",
   "metadata": {},
   "source": [
    "This method has been used in the paper [1] (ICLR 2017 paper from NVIDIA) to compare the different pruning methods compare to the direct (oracle) method as following:\n",
    "\n",
    "Given the difference between the direct method and other method, $ d_i = rank(\\theta _d(i) - rand( \\theta _{other}(i))$ for each parameter $i$, the rank correlation is computer:\n",
    "\n",
    "$ S = 1 - \\frac{6}{N(N^2-1)} \\sum_{i=1}^{N} d_{i}^{2}$\n",
    "\n",
    "\n",
    "\n",
    "[1] https://arxiv.org/pdf/1611.06440.pdf\n"
   ]
  },
  {
   "cell_type": "code",
   "execution_count": 35,
   "metadata": {},
   "outputs": [],
   "source": [
    "df_D = pd.DataFrame({\"Weights_Direct\":N_arryD})\n",
    "df_G = pd.DataFrame({\"Weights_E_Greedy\":Avg_Accumaltive_R_EGN})\n",
    "df_U = pd.DataFrame({\"Weights_UCB\":Avg_Accumaltive_UCB}) \n",
    "df_T = pd.DataFrame({\"Weights_TS\":Avg_Accumaltive_TS}) \n",
    "df_S = pd.DataFrame({\"Weights_SR\":Avg_Accumaltive_SR3})"
   ]
  },
  {
   "cell_type": "code",
   "execution_count": 36,
   "metadata": {},
   "outputs": [],
   "source": [
    "df_D[\"Direct Rank\"] = df_D.rank(method='max')\n",
    "df_G[\"E_Greedy Rank\"] = df_G.rank(method='max')\n",
    "df_U[\"UCB Rank\"] = df_U.rank(method='max')\n",
    "df_T[\"TS Rank\"] = df_T.rank(method='max')\n",
    "df_S[\"SR Rank\"] = df_S.rank(method='max')"
   ]
  },
  {
   "cell_type": "code",
   "execution_count": 37,
   "metadata": {},
   "outputs": [],
   "source": [
    "df_D[\"d E_Greedy\"] = df_D[\"Direct Rank\"] - df_G[\"E_Greedy Rank\"]\n",
    "df_D[\"d UCB\"] = df_D[\"Direct Rank\"] - df_U[\"UCB Rank\"]\n",
    "df_D[\"d TS\"] = df_D[\"Direct Rank\"] - df_T[\"TS Rank\"]\n",
    "df_D[\"d SR\"] = df_D[\"Direct Rank\"] - df_S[\"SR Rank\"]"
   ]
  },
  {
   "cell_type": "code",
   "execution_count": 38,
   "metadata": {},
   "outputs": [],
   "source": [
    "df_D[\"d square E_Greedy\"] = df_D[\"d E_Greedy\"] * df_D[\"d E_Greedy\"]\n",
    "df_D[\"d square UCB\"] = df_D[\"d UCB\"] * df_D[\"d UCB\"]\n",
    "df_D[\"d square TS\"] = df_D[\"d TS\"] * df_D[\"d TS\"]\n",
    "df_D[\"d square SR\"] = df_D[\"d SR\"] * df_D[\"d SR\"]"
   ]
  },
  {
   "cell_type": "code",
   "execution_count": 39,
   "metadata": {},
   "outputs": [],
   "source": [
    "S_E_greedy = 1 - 6/(N1*N2*((N1*N2)**2 - 1)) * df_D[\"d square E_Greedy\"].sum()\n",
    "S_UCB = 1 - 6/(N1*N2*((N1*N2)**2 - 1)) * df_D[\"d square UCB\"].sum()\n",
    "S_TS = 1 - 6/(N1*N2*((N1*N2)**2 - 1)) * df_D[\"d square TS\"].sum()\n",
    "S_SR = 1 - 6/(N1*N2*((N1*N2)**2 - 1)) * df_D[\"d square SR\"].sum()"
   ]
  },
  {
   "cell_type": "code",
   "execution_count": 40,
   "metadata": {},
   "outputs": [],
   "source": [
    "data = {'Name of Method': [\"Epsilon Greedy\", \"UCB1\", \"Thompson Sampling\", \"Successive Rejects\"], 'Spearman rank correlation': [S_E_greedy, S_UCB, S_TS, S_SR]}\n",
    "df_cor = pd.DataFrame.from_dict(data)"
   ]
  },
  {
   "cell_type": "code",
   "execution_count": 41,
   "metadata": {},
   "outputs": [
    {
     "data": {
      "text/html": [
       "<div>\n",
       "<style scoped>\n",
       "    .dataframe tbody tr th:only-of-type {\n",
       "        vertical-align: middle;\n",
       "    }\n",
       "\n",
       "    .dataframe tbody tr th {\n",
       "        vertical-align: top;\n",
       "    }\n",
       "\n",
       "    .dataframe thead th {\n",
       "        text-align: right;\n",
       "    }\n",
       "</style>\n",
       "<table border=\"1\" class=\"dataframe\">\n",
       "  <thead>\n",
       "    <tr style=\"text-align: right;\">\n",
       "      <th></th>\n",
       "      <th>Name of Method</th>\n",
       "      <th>Spearman rank correlation</th>\n",
       "    </tr>\n",
       "  </thead>\n",
       "  <tbody>\n",
       "    <tr>\n",
       "      <th>0</th>\n",
       "      <td>Epsilon Greedy</td>\n",
       "      <td>0.387294</td>\n",
       "    </tr>\n",
       "    <tr>\n",
       "      <th>1</th>\n",
       "      <td>UCB1</td>\n",
       "      <td>0.387256</td>\n",
       "    </tr>\n",
       "    <tr>\n",
       "      <th>2</th>\n",
       "      <td>Thompson Sampling</td>\n",
       "      <td>0.358214</td>\n",
       "    </tr>\n",
       "    <tr>\n",
       "      <th>3</th>\n",
       "      <td>Successive Rejects</td>\n",
       "      <td>-0.135632</td>\n",
       "    </tr>\n",
       "  </tbody>\n",
       "</table>\n",
       "</div>"
      ],
      "text/plain": [
       "       Name of Method  Spearman rank correlation\n",
       "0      Epsilon Greedy                   0.387294\n",
       "1                UCB1                   0.387256\n",
       "2   Thompson Sampling                   0.358214\n",
       "3  Successive Rejects                  -0.135632"
      ]
     },
     "execution_count": 41,
     "metadata": {},
     "output_type": "execute_result"
    }
   ],
   "source": [
    "df_cor"
   ]
  },
  {
   "cell_type": "code",
   "execution_count": 42,
   "metadata": {},
   "outputs": [
    {
     "data": {
      "application/pdf": "[encoded data removed]",
      "image/png": "[encoded data removed]",
      "text/plain": [
       "<Figure size 576x396 with 1 Axes>"
      ]
     },
     "metadata": {},
     "output_type": "display_data"
    }
   ],
   "source": [
    "df_cor.plot.bar(x='Name of Method', y='Spearman rank correlation', rot=0);"
   ]
  },
  {
   "cell_type": "code",
   "execution_count": null,
   "metadata": {},
   "outputs": [],
   "source": []
  }
 ],
 "metadata": {
  "kernelspec": {
   "display_name": "Python 3",
   "language": "python",
   "name": "python3"
  },
  "language_info": {
   "codemirror_mode": {
    "name": "ipython",
    "version": 3
   },
   "file_extension": ".py",
   "mimetype": "text/x-python",
   "name": "python",
   "nbconvert_exporter": "python",
   "pygments_lexer": "ipython3",
   "version": "3.6.0"
  }
 },
 "nbformat": 4,
 "nbformat_minor": 2
}
